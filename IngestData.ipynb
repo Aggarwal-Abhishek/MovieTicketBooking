{
 "cells": [
  {
   "cell_type": "code",
   "execution_count": 18,
   "id": "d6c97fa0",
   "metadata": {
    "ExecuteTime": {
     "end_time": "2021-09-13T05:03:24.141300Z",
     "start_time": "2021-09-13T05:03:24.125091Z"
    }
   },
   "outputs": [],
   "source": [
    "import os\n",
    "import requests\n",
    "import pandas as pd\n",
    "from PIL import Image\n",
    "from imdb import IMDb\n",
    "from multiprocessing.pool import ThreadPool\n",
    "\n",
    "ia = IMDb()"
   ]
  },
  {
   "cell_type": "markdown",
   "id": "4ef763d8",
   "metadata": {
    "ExecuteTime": {
     "end_time": "2021-09-13T04:49:28.597488Z",
     "start_time": "2021-09-13T04:49:28.592453Z"
    }
   },
   "source": [
    "## Top 25 Indian Movies"
   ]
  },
  {
   "cell_type": "code",
   "execution_count": 2,
   "id": "7dd84240",
   "metadata": {
    "ExecuteTime": {
     "end_time": "2021-09-13T04:58:34.383062Z",
     "start_time": "2021-09-13T04:58:34.373773Z"
    }
   },
   "outputs": [],
   "source": [
    "def GetMovieDetail(_movie):\n",
    "    try:\n",
    "        movie = ia.get_movie(_movie.movieID)\n",
    "        return {\n",
    "            'name': movie['title'],\n",
    "            'length': int(movie['runtime'][0]),\n",
    "            'summary': '\\n'.join(movie['plot']),\n",
    "            'image': movie['full-size cover url'],\n",
    "        }\n",
    "    \n",
    "    except:\n",
    "        print(f'failed for {_movie}. Retrying...')\n",
    "        return GetMovieDetail(_movie)\n",
    "    \n",
    "    "
   ]
  },
  {
   "cell_type": "code",
   "execution_count": 3,
   "id": "f839b10c",
   "metadata": {
    "ExecuteTime": {
     "end_time": "2021-09-13T04:58:37.762258Z",
     "start_time": "2021-09-13T04:58:34.921955Z"
    }
   },
   "outputs": [],
   "source": [
    "movies = ia.get_top250_indian_movies()[:25]"
   ]
  },
  {
   "cell_type": "markdown",
   "id": "9e4187c7",
   "metadata": {
    "ExecuteTime": {
     "end_time": "2021-09-13T04:09:48.529979Z",
     "start_time": "2021-09-13T04:09:48.511835Z"
    }
   },
   "source": [
    "### Downloading Details Asynchronously"
   ]
  },
  {
   "cell_type": "code",
   "execution_count": 4,
   "id": "35af345c",
   "metadata": {
    "ExecuteTime": {
     "end_time": "2021-09-13T04:58:54.253202Z",
     "start_time": "2021-09-13T04:58:37.764466Z"
    }
   },
   "outputs": [],
   "source": [
    "pool = ThreadPool(5)\n",
    "\n",
    "movies_detail_list = []\n",
    "for result in pool.imap_unordered(GetMovieDetail, movies):\n",
    "#     print(result)\n",
    "    movies_detail_list.append(result)"
   ]
  },
  {
   "cell_type": "code",
   "execution_count": 5,
   "id": "0829c5f3",
   "metadata": {
    "ExecuteTime": {
     "end_time": "2021-09-13T04:58:54.271197Z",
     "start_time": "2021-09-13T04:58:54.257090Z"
    }
   },
   "outputs": [],
   "source": [
    "movies_df = pd.DataFrame(movies_detail_list)\n",
    "movies_df.to_csv('movies.csv', index=None)\n",
    "# del movies, pool, movies_detail_list"
   ]
  },
  {
   "cell_type": "markdown",
   "id": "bf9bf30c",
   "metadata": {},
   "source": [
    "### Downloading Images"
   ]
  },
  {
   "cell_type": "code",
   "execution_count": 6,
   "id": "8c6056a3",
   "metadata": {
    "ExecuteTime": {
     "end_time": "2021-09-13T04:58:57.822499Z",
     "start_time": "2021-09-13T04:58:54.274867Z"
    }
   },
   "outputs": [
    {
     "name": "stdout",
     "output_type": "stream",
     "text": [
      "Image Saved @ hanky_panky.jpg\n",
      "Image Saved @ c_o_kancharapalem.jpg\n",
      "Image Saved @ pariyerum_perumal.jpg\n",
      "Image Saved @ anbe_sivam.jpg\n",
      "Image Saved @ nayakan.jpg\n",
      "Image Saved @ manichitrathazhu.jpg\n",
      "Image Saved @ kireedam.jpg\n",
      "Image Saved @ 96.jpg\n",
      "Image Saved @ black_friday.jpg\n",
      "Image Saved @ natsamrat.jpg\n",
      "Image Saved @ thevar_magan.jpg\n",
      "Image Saved @ the_world_of_apu.jpg\n",
      "Image Saved @ visaaranai.jpg\n",
      "Image Saved @ jersey.jpg\n",
      "Image Saved @ kumbalangi_nights.jpg\n",
      "Image Saved @ soorarai_pottru.jpg\n",
      "Image Saved @ pather_panchali.jpg\n",
      "Image Saved @ drishyam_2.jpg\n",
      "Image Saved @ thalapathi.jpg\n",
      "Image Saved @ asuran.jpg\n",
      "Image Saved @ like_stars_on_earth.jpg\n",
      "Image Saved @ sarpatta_parambarai.jpg\n",
      "Image Saved @ kaithi.jpg\n",
      "Image Saved @ _home.jpg\n",
      "Image Saved @ 3_idiots.jpg\n"
     ]
    }
   ],
   "source": [
    "def ValidFileName(x):\n",
    "    ret = ''.join([ch if ch.isalnum() else '_' for ch in x.lower()])\n",
    "    return ret\n",
    "\n",
    "def SaveImage(arg):\n",
    "    idx, title, url = arg\n",
    "    file_name = ValidFileName(title)+'.'+url.split('.')[-1]\n",
    "    Image.open(requests.get(url, stream=True).raw).save('static/media/' + file_name)\n",
    "    print(f'Image Saved @ {file_name}')\n",
    "    return idx, file_name\n",
    "    \n",
    "\n",
    "pool = ThreadPool(5)\n",
    "for idx, file_name in pool.imap_unordered(SaveImage, zip(movies_df.index,movies_df['name'],movies_df['image'])):\n",
    "    movies_df.at[idx, 'image'] = file_name"
   ]
  },
  {
   "cell_type": "code",
   "execution_count": 7,
   "id": "f565ced2",
   "metadata": {
    "ExecuteTime": {
     "end_time": "2021-09-13T04:58:57.902929Z",
     "start_time": "2021-09-13T04:58:57.825161Z"
    }
   },
   "outputs": [
    {
     "data": {
      "text/html": [
       "<div>\n",
       "<style scoped>\n",
       "    .dataframe tbody tr th:only-of-type {\n",
       "        vertical-align: middle;\n",
       "    }\n",
       "\n",
       "    .dataframe tbody tr th {\n",
       "        vertical-align: top;\n",
       "    }\n",
       "\n",
       "    .dataframe thead th {\n",
       "        text-align: right;\n",
       "    }\n",
       "</style>\n",
       "<table border=\"1\" class=\"dataframe\">\n",
       "  <thead>\n",
       "    <tr style=\"text-align: right;\">\n",
       "      <th></th>\n",
       "      <th>name</th>\n",
       "      <th>length</th>\n",
       "      <th>summary</th>\n",
       "      <th>image</th>\n",
       "    </tr>\n",
       "  </thead>\n",
       "  <tbody>\n",
       "    <tr>\n",
       "      <th>0</th>\n",
       "      <td>Nayakan</td>\n",
       "      <td>145</td>\n",
       "      <td>A common man's struggles against a corrupt pol...</td>\n",
       "      <td>nayakan.jpg</td>\n",
       "    </tr>\n",
       "    <tr>\n",
       "      <th>1</th>\n",
       "      <td>Pariyerum Perumal</td>\n",
       "      <td>154</td>\n",
       "      <td>A law student from a lower caste begins a frie...</td>\n",
       "      <td>pariyerum_perumal.jpg</td>\n",
       "    </tr>\n",
       "    <tr>\n",
       "      <th>2</th>\n",
       "      <td>Hanky Panky</td>\n",
       "      <td>120</td>\n",
       "      <td>A man's simple lie to secure his job escalates...</td>\n",
       "      <td>hanky_panky.jpg</td>\n",
       "    </tr>\n",
       "    <tr>\n",
       "      <th>3</th>\n",
       "      <td>C/o Kancharapalem</td>\n",
       "      <td>152</td>\n",
       "      <td>Four unconventional love stories set in the to...</td>\n",
       "      <td>c_o_kancharapalem.jpg</td>\n",
       "    </tr>\n",
       "    <tr>\n",
       "      <th>4</th>\n",
       "      <td>Anbe Sivam</td>\n",
       "      <td>160</td>\n",
       "      <td>Two men, one young and arrogant, the other dam...</td>\n",
       "      <td>anbe_sivam.jpg</td>\n",
       "    </tr>\n",
       "    <tr>\n",
       "      <th>5</th>\n",
       "      <td>Manichitrathazhu</td>\n",
       "      <td>169</td>\n",
       "      <td>When a forbidden room in an old bungalow is un...</td>\n",
       "      <td>manichitrathazhu.jpg</td>\n",
       "    </tr>\n",
       "    <tr>\n",
       "      <th>6</th>\n",
       "      <td>Natsamrat</td>\n",
       "      <td>166</td>\n",
       "      <td>After he retires, an aging theatre actor and h...</td>\n",
       "      <td>natsamrat.jpg</td>\n",
       "    </tr>\n",
       "    <tr>\n",
       "      <th>7</th>\n",
       "      <td>The World of Apu</td>\n",
       "      <td>105</td>\n",
       "      <td>This final installment in Satyajit Ray's Apu T...</td>\n",
       "      <td>the_world_of_apu.jpg</td>\n",
       "    </tr>\n",
       "    <tr>\n",
       "      <th>8</th>\n",
       "      <td>96</td>\n",
       "      <td>158</td>\n",
       "      <td>Two high school sweethearts meet at a reunion ...</td>\n",
       "      <td>96.jpg</td>\n",
       "    </tr>\n",
       "    <tr>\n",
       "      <th>9</th>\n",
       "      <td>Kireedam</td>\n",
       "      <td>124</td>\n",
       "      <td>The life of a young man turns upside down when...</td>\n",
       "      <td>kireedam.jpg</td>\n",
       "    </tr>\n",
       "    <tr>\n",
       "      <th>10</th>\n",
       "      <td>Black Friday</td>\n",
       "      <td>143</td>\n",
       "      <td>A film about the investigations following the ...</td>\n",
       "      <td>black_friday.jpg</td>\n",
       "    </tr>\n",
       "    <tr>\n",
       "      <th>11</th>\n",
       "      <td>Pather Panchali</td>\n",
       "      <td>125</td>\n",
       "      <td>Impoverished priest Harihar Ray, dreaming of a...</td>\n",
       "      <td>pather_panchali.jpg</td>\n",
       "    </tr>\n",
       "    <tr>\n",
       "      <th>12</th>\n",
       "      <td>Thevar Magan</td>\n",
       "      <td>145</td>\n",
       "      <td>The urbane son of a village chieftain struggle...</td>\n",
       "      <td>thevar_magan.jpg</td>\n",
       "    </tr>\n",
       "    <tr>\n",
       "      <th>13</th>\n",
       "      <td>Kumbalangi Nights</td>\n",
       "      <td>135</td>\n",
       "      <td>The film revolves around four brothers who sha...</td>\n",
       "      <td>kumbalangi_nights.jpg</td>\n",
       "    </tr>\n",
       "    <tr>\n",
       "      <th>14</th>\n",
       "      <td>Visaaranai</td>\n",
       "      <td>117</td>\n",
       "      <td>Four labourers are tortured by the police to c...</td>\n",
       "      <td>visaaranai.jpg</td>\n",
       "    </tr>\n",
       "    <tr>\n",
       "      <th>15</th>\n",
       "      <td>Soorarai Pottru</td>\n",
       "      <td>153</td>\n",
       "      <td>Nedumaaran Rajangam \"Maara\" sets out to make t...</td>\n",
       "      <td>soorarai_pottru.jpg</td>\n",
       "    </tr>\n",
       "    <tr>\n",
       "      <th>16</th>\n",
       "      <td>Jersey</td>\n",
       "      <td>157</td>\n",
       "      <td>A failed cricketer decides to revive his crick...</td>\n",
       "      <td>jersey.jpg</td>\n",
       "    </tr>\n",
       "    <tr>\n",
       "      <th>17</th>\n",
       "      <td>3 Idiots</td>\n",
       "      <td>170</td>\n",
       "      <td>Two friends are searching for their long lost ...</td>\n",
       "      <td>3_idiots.jpg</td>\n",
       "    </tr>\n",
       "    <tr>\n",
       "      <th>18</th>\n",
       "      <td>Like Stars on Earth</td>\n",
       "      <td>165</td>\n",
       "      <td>An eight-year-old boy is thought to be a lazy ...</td>\n",
       "      <td>like_stars_on_earth.jpg</td>\n",
       "    </tr>\n",
       "    <tr>\n",
       "      <th>19</th>\n",
       "      <td>Drishyam 2</td>\n",
       "      <td>152</td>\n",
       "      <td>A gripping tale of an investigation and a fami...</td>\n",
       "      <td>drishyam_2.jpg</td>\n",
       "    </tr>\n",
       "    <tr>\n",
       "      <th>20</th>\n",
       "      <td>Asuran</td>\n",
       "      <td>141</td>\n",
       "      <td>The teenage son of a farmer from an underprivi...</td>\n",
       "      <td>asuran.jpg</td>\n",
       "    </tr>\n",
       "    <tr>\n",
       "      <th>21</th>\n",
       "      <td>Thalapathi</td>\n",
       "      <td>157</td>\n",
       "      <td>An orphan named Surya raised in a slum befrien...</td>\n",
       "      <td>thalapathi.jpg</td>\n",
       "    </tr>\n",
       "    <tr>\n",
       "      <th>22</th>\n",
       "      <td>#Home</td>\n",
       "      <td>158</td>\n",
       "      <td>Oliver Twist (Indrans) wants to be tech-savvy ...</td>\n",
       "      <td>_home.jpg</td>\n",
       "    </tr>\n",
       "    <tr>\n",
       "      <th>23</th>\n",
       "      <td>Sarpatta Parambarai</td>\n",
       "      <td>173</td>\n",
       "      <td>When Sarpatta Parambarai is challenged to a do...</td>\n",
       "      <td>sarpatta_parambarai.jpg</td>\n",
       "    </tr>\n",
       "    <tr>\n",
       "      <th>24</th>\n",
       "      <td>Kaithi</td>\n",
       "      <td>145</td>\n",
       "      <td>Dilli, an ex-convict, endeavours to meet his d...</td>\n",
       "      <td>kaithi.jpg</td>\n",
       "    </tr>\n",
       "  </tbody>\n",
       "</table>\n",
       "</div>"
      ],
      "text/plain": [
       "                   name  length  \\\n",
       "0               Nayakan     145   \n",
       "1     Pariyerum Perumal     154   \n",
       "2           Hanky Panky     120   \n",
       "3     C/o Kancharapalem     152   \n",
       "4            Anbe Sivam     160   \n",
       "5      Manichitrathazhu     169   \n",
       "6             Natsamrat     166   \n",
       "7      The World of Apu     105   \n",
       "8                    96     158   \n",
       "9              Kireedam     124   \n",
       "10         Black Friday     143   \n",
       "11      Pather Panchali     125   \n",
       "12         Thevar Magan     145   \n",
       "13    Kumbalangi Nights     135   \n",
       "14           Visaaranai     117   \n",
       "15      Soorarai Pottru     153   \n",
       "16               Jersey     157   \n",
       "17             3 Idiots     170   \n",
       "18  Like Stars on Earth     165   \n",
       "19           Drishyam 2     152   \n",
       "20               Asuran     141   \n",
       "21           Thalapathi     157   \n",
       "22                #Home     158   \n",
       "23  Sarpatta Parambarai     173   \n",
       "24               Kaithi     145   \n",
       "\n",
       "                                              summary                    image  \n",
       "0   A common man's struggles against a corrupt pol...              nayakan.jpg  \n",
       "1   A law student from a lower caste begins a frie...    pariyerum_perumal.jpg  \n",
       "2   A man's simple lie to secure his job escalates...          hanky_panky.jpg  \n",
       "3   Four unconventional love stories set in the to...    c_o_kancharapalem.jpg  \n",
       "4   Two men, one young and arrogant, the other dam...           anbe_sivam.jpg  \n",
       "5   When a forbidden room in an old bungalow is un...     manichitrathazhu.jpg  \n",
       "6   After he retires, an aging theatre actor and h...            natsamrat.jpg  \n",
       "7   This final installment in Satyajit Ray's Apu T...     the_world_of_apu.jpg  \n",
       "8   Two high school sweethearts meet at a reunion ...                   96.jpg  \n",
       "9   The life of a young man turns upside down when...             kireedam.jpg  \n",
       "10  A film about the investigations following the ...         black_friday.jpg  \n",
       "11  Impoverished priest Harihar Ray, dreaming of a...      pather_panchali.jpg  \n",
       "12  The urbane son of a village chieftain struggle...         thevar_magan.jpg  \n",
       "13  The film revolves around four brothers who sha...    kumbalangi_nights.jpg  \n",
       "14  Four labourers are tortured by the police to c...           visaaranai.jpg  \n",
       "15  Nedumaaran Rajangam \"Maara\" sets out to make t...      soorarai_pottru.jpg  \n",
       "16  A failed cricketer decides to revive his crick...               jersey.jpg  \n",
       "17  Two friends are searching for their long lost ...             3_idiots.jpg  \n",
       "18  An eight-year-old boy is thought to be a lazy ...  like_stars_on_earth.jpg  \n",
       "19  A gripping tale of an investigation and a fami...           drishyam_2.jpg  \n",
       "20  The teenage son of a farmer from an underprivi...               asuran.jpg  \n",
       "21  An orphan named Surya raised in a slum befrien...           thalapathi.jpg  \n",
       "22  Oliver Twist (Indrans) wants to be tech-savvy ...                _home.jpg  \n",
       "23  When Sarpatta Parambarai is challenged to a do...  sarpatta_parambarai.jpg  \n",
       "24  Dilli, an ex-convict, endeavours to meet his d...               kaithi.jpg  "
      ]
     },
     "execution_count": 7,
     "metadata": {},
     "output_type": "execute_result"
    }
   ],
   "source": [
    "movies_df.to_csv('movies.csv', index=None)\n",
    "movies_df"
   ]
  },
  {
   "cell_type": "code",
   "execution_count": 20,
   "id": "067bf6a4",
   "metadata": {
    "ExecuteTime": {
     "end_time": "2021-09-13T05:03:29.203508Z",
     "start_time": "2021-09-13T05:03:29.194374Z"
    }
   },
   "outputs": [],
   "source": [
    "import django\n",
    "os.environ.setdefault('DJANGO_SETTINGS_MODULE', 'rest.settings')\n",
    "os.environ[\"DJANGO_ALLOW_ASYNC_UNSAFE\"] = \"true\"\n",
    "django.setup()"
   ]
  },
  {
   "cell_type": "code",
   "execution_count": 23,
   "id": "769e144e",
   "metadata": {
    "ExecuteTime": {
     "end_time": "2021-09-13T05:04:00.918177Z",
     "start_time": "2021-09-13T05:04:00.914582Z"
    }
   },
   "outputs": [],
   "source": [
    "from booking.models import Movie"
   ]
  },
  {
   "cell_type": "code",
   "execution_count": 30,
   "id": "f6fa17bf",
   "metadata": {
    "ExecuteTime": {
     "end_time": "2021-09-13T05:06:23.195347Z",
     "start_time": "2021-09-13T05:06:20.304923Z"
    }
   },
   "outputs": [],
   "source": [
    "for name,length,summary,image in movies_df.iloc:\n",
    "    Movie(name=name, length=length, summary=summary, image=image).save()"
   ]
  },
  {
   "cell_type": "code",
   "execution_count": 62,
   "id": "da1d925a",
   "metadata": {
    "ExecuteTime": {
     "end_time": "2021-09-13T04:45:32.014669Z",
     "start_time": "2021-09-13T04:45:32.009890Z"
    }
   },
   "outputs": [],
   "source": [
    "# list(zip(movies_df.index, movies_df['name'], movies_df['image']))"
   ]
  }
 ],
 "metadata": {
  "kernelspec": {
   "display_name": "Python 3",
   "language": "python",
   "name": "python3"
  },
  "language_info": {
   "codemirror_mode": {
    "name": "ipython",
    "version": 3
   },
   "file_extension": ".py",
   "mimetype": "text/x-python",
   "name": "python",
   "nbconvert_exporter": "python",
   "pygments_lexer": "ipython3",
   "version": "3.7.10"
  },
  "toc": {
   "base_numbering": 1,
   "nav_menu": {},
   "number_sections": true,
   "sideBar": true,
   "skip_h1_title": false,
   "title_cell": "Table of Contents",
   "title_sidebar": "Contents",
   "toc_cell": false,
   "toc_position": {},
   "toc_section_display": true,
   "toc_window_display": false
  }
 },
 "nbformat": 4,
 "nbformat_minor": 5
}
